{
 "cells": [
  {
   "cell_type": "markdown",
   "id": "96bcb906-895b-4b93-81cf-bda5ad5e9f6f",
   "metadata": {},
   "source": [
    "<!DOCTYPE html>\n",
    "<html lang=\"fr\">\n",
    "<head>\n",
    "    <meta charset=\"UTF-8\">\n",
    "    <meta name=\"viewport\" content=\"width=device-width, initial-scale=1.0\">\n",
    "    <style>\n",
    "        body {\n",
    "            font-family: 'Arial', sans-serif;\n",
    "            color: #333;\n",
    "            margin: 0;\n",
    "            padding: 20px;\n",
    "        }\n",
    "        h1 {\n",
    "            text-align: center;\n",
    "            font-size: 3em; /* Taille de police plus grande */\n",
    "            margin: 10px 0;\n",
    "            color: #007acc; /* Couleur du texte */\n",
    "            text-shadow: 2px 2px 4px rgba(0, 0, 0, 0.1); /* Ombre pour profondeur */\n",
    "        }\n",
    "        hr {\n",
    "            border: none;\n",
    "            height: 2px;\n",
    "            background-color: #007acc; /* Ligne de séparation colorée */\n",
    "            margin: 20px auto; /* Marges autour de la ligne */\n",
    "            width: 50%; /* Largeur de la ligne */\n",
    "        }\n",
    "    </style>\n",
    "</head>\n",
    "<body>\n",
    "\n",
    "<h1 style=\"text-align: center\">Cours</h1>\n",
    "<h1 style=\"text-align: center\">-</h1>\n",
    "<h1 style=\"text-align: center\">Les Listes</h1>\n",
    "<hr></hr>\n",
    "\n",
    "</body>\n",
    "</html>"
   ]
  },
  {
   "cell_type": "code",
   "execution_count": 2,
   "id": "e389ff9b-e09d-4a9d-839c-7239e2baa990",
   "metadata": {},
   "outputs": [],
   "source": [
    "import random"
   ]
  },
  {
   "cell_type": "markdown",
   "id": "f5a412e6-65c2-444a-a1ca-204ec083b58e",
   "metadata": {},
   "source": [
    "<h2>Ajout & Modification</h2>"
   ]
  },
  {
   "cell_type": "markdown",
   "id": "bd629e06-64f7-4041-8e2f-f0b79979ffbf",
   "metadata": {},
   "source": [
    "<h3>Ajouter un élèment à une liste</h3>"
   ]
  },
  {
   "cell_type": "code",
   "execution_count": 2,
   "id": "2c8b10b5-7d0a-485b-9a5b-a2ca3b371d58",
   "metadata": {},
   "outputs": [
    {
     "name": "stdout",
     "output_type": "stream",
     "text": [
      "[0, 1, 2, 3, 4, 5, 6]\n",
      "[0, 1, 2, 3, 4, 5, 6, 7]\n"
     ]
    }
   ],
   "source": [
    "ma_liste =[0,1,2,3,4,5,6]\n",
    "print(ma_liste)\n",
    "ma_liste.append(7)\n",
    "print(ma_liste)"
   ]
  },
  {
   "cell_type": "markdown",
   "id": "d60d5981-d331-4367-9f42-b5b138219a6d",
   "metadata": {},
   "source": [
    "<h3>Ajouter tous les élèments d'un iterable</h3>"
   ]
  },
  {
   "cell_type": "code",
   "execution_count": 6,
   "id": "f21de0fc-a8de-4e6a-ba2d-16d6310c93e4",
   "metadata": {},
   "outputs": [
    {
     "name": "stdout",
     "output_type": "stream",
     "text": [
      "[0, 1, 2, 3, 4, 5]\n",
      "[0, 1, 2, 3, 4, 5, '6', '7', '8', '9']\n",
      "[0, 1, 2, 3, 4, 5, '6', '7', '8', '9', 10, 11, 12]\n"
     ]
    }
   ],
   "source": [
    "ma_liste = [0,1,2,3,4,5]\n",
    "nb = \"6789\"\n",
    "autre_liste=[10,11,12]\n",
    "print(ma_liste)\n",
    "ma_liste.extend(nb)\n",
    "print(ma_liste)\n",
    "ma_liste.extend(autre_liste)\n",
    "print(ma_liste)"
   ]
  },
  {
   "cell_type": "markdown",
   "id": "3405f1d3-027e-4cdf-9911-228a7154d808",
   "metadata": {},
   "source": [
    "<h3>Inserer un élèment à un endroit précis</h3>"
   ]
  },
  {
   "cell_type": "code",
   "execution_count": 8,
   "id": "c3512741-b713-4100-be32-ea86049e8cbb",
   "metadata": {},
   "outputs": [
    {
     "name": "stdout",
     "output_type": "stream",
     "text": [
      "[0, 1, 2, 3, 4, 5, 6]\n",
      "[0, 1, 5, 2, 3, 4, 5, 6]\n"
     ]
    }
   ],
   "source": [
    "ma_liste =[0,1,2,3,4,5,6]\n",
    "print(ma_liste)\n",
    "ma_liste.insert(2, 5)\n",
    "print(ma_liste)"
   ]
  },
  {
   "cell_type": "markdown",
   "id": "8a413298-fa73-4e9d-b45b-8728f48c27b4",
   "metadata": {},
   "source": [
    "<h3>Supprimer la première occurence d'un élèment</h3>"
   ]
  },
  {
   "cell_type": "code",
   "execution_count": 9,
   "id": "8e99d6b4-5ad8-4b3c-9976-676ab32e22e7",
   "metadata": {},
   "outputs": [
    {
     "name": "stdout",
     "output_type": "stream",
     "text": [
      "[0, 1, 2, 3, 4, 5, 6]\n",
      "[0, 2, 3, 4, 5, 6]\n"
     ]
    }
   ],
   "source": [
    "ma_liste =[0,1,2,3,4,5,6]\n",
    "print(ma_liste)\n",
    "ma_liste.remove(1)\n",
    "print(ma_liste)"
   ]
  },
  {
   "cell_type": "markdown",
   "id": "95bcf88f-8fbf-4a0e-bf6e-bcdb19e7c9aa",
   "metadata": {},
   "source": [
    "<h3>Supprimer un élèment à un index précis</h3>"
   ]
  },
  {
   "cell_type": "code",
   "execution_count": 12,
   "id": "80205171-d5bf-4e73-ac13-14b748c39321",
   "metadata": {},
   "outputs": [
    {
     "name": "stdout",
     "output_type": "stream",
     "text": [
      "[0, 1, 2, 3, 4, 5, 6]\n",
      "[0, 1, 2, 3, 5, 6]\n"
     ]
    }
   ],
   "source": [
    "ma_liste =[0,1,2,3,4,5,6]\n",
    "print(ma_liste)\n",
    "ma_liste.pop(4)\n",
    "print(ma_liste)"
   ]
  },
  {
   "cell_type": "markdown",
   "id": "26f3c2c2-7561-408d-9273-0c792f9dbcbb",
   "metadata": {},
   "source": [
    "<h3>Supprimer l'ensemble de la liste</h3>"
   ]
  },
  {
   "cell_type": "code",
   "execution_count": 13,
   "id": "7496669b-57d6-4abf-aa9f-47f07ac0c809",
   "metadata": {},
   "outputs": [
    {
     "name": "stdout",
     "output_type": "stream",
     "text": [
      "[0, 1, 2, 3, 4, 5, 6]\n",
      "[]\n"
     ]
    }
   ],
   "source": [
    "ma_liste =[0,1,2,3,4,5,6]\n",
    "print(ma_liste)\n",
    "ma_liste.clear()\n",
    "print(ma_liste)"
   ]
  },
  {
   "cell_type": "markdown",
   "id": "189a8e20-2a24-4165-b985-5b0e528a421d",
   "metadata": {},
   "source": [
    "<h2>Recherche & Comptage</h2>"
   ]
  },
  {
   "cell_type": "markdown",
   "id": "b03cd1b7-1625-4b1d-9e1c-ad58c819eef7",
   "metadata": {},
   "source": [
    "<h3>Renvoyer l'index de la première occurence d'un élèment </h3>"
   ]
  },
  {
   "cell_type": "code",
   "execution_count": 14,
   "id": "d0085152-4f96-4f39-87ed-b70f208f4a03",
   "metadata": {},
   "outputs": [
    {
     "name": "stdout",
     "output_type": "stream",
     "text": [
      "['Fraise', 'Framboise', 'Myrthille', 'Banane']\n"
     ]
    },
    {
     "data": {
      "text/plain": [
       "1"
      ]
     },
     "execution_count": 14,
     "metadata": {},
     "output_type": "execute_result"
    }
   ],
   "source": [
    "t = [\"Fraise\", \"Framboise\", \"Myrthille\",\"Banane\"]\n",
    "print(t)\n",
    "t.index(\"Framboise\",0,3)"
   ]
  },
  {
   "cell_type": "markdown",
   "id": "fe52970f-3a90-4b36-90a3-8f5bdcdb8576",
   "metadata": {},
   "source": [
    "<h3>Renvoyer le nombre d'occurence d'un élèment</h3>"
   ]
  },
  {
   "cell_type": "code",
   "execution_count": 13,
   "id": "eebbc8fb-d250-409d-8654-9312c9e9ad20",
   "metadata": {},
   "outputs": [
    {
     "name": "stdout",
     "output_type": "stream",
     "text": [
      "['Fraise', 'Framboise', 'Myrthille', 'Banane', 'Fraise']\n"
     ]
    },
    {
     "data": {
      "text/plain": [
       "2"
      ]
     },
     "execution_count": 13,
     "metadata": {},
     "output_type": "execute_result"
    }
   ],
   "source": [
    "t = [\"Fraise\", \"Framboise\", \"Myrthille\",\"Banane\",\"Fraise\"]\n",
    "print(t)\n",
    "t.count(\"Fraise\")"
   ]
  },
  {
   "cell_type": "markdown",
   "id": "00e5cb22-1119-43f6-a41e-88f5c01ebd58",
   "metadata": {},
   "source": [
    "<h2>Tri & Inversion</h2>"
   ]
  },
  {
   "cell_type": "markdown",
   "id": "fe305d13-b1a9-4437-8424-ab50b2af2263",
   "metadata": {},
   "source": [
    "<h3>Trier une liste en place</h3>"
   ]
  },
  {
   "cell_type": "code",
   "execution_count": 3,
   "id": "f4006f26-f75b-4733-9ba7-374ce09a4cc7",
   "metadata": {},
   "outputs": [
    {
     "name": "stdout",
     "output_type": "stream",
     "text": [
      "[(8883, 9541), (6425, 9559), (8255, 9575), (4869, 1304), (172, 2818)]\n",
      "[(172, 2818), (4869, 1304), (6425, 9559), (8255, 9575), (8883, 9541)]\n"
     ]
    }
   ],
   "source": [
    "t_tuple = [(random.randint(0,10000),random.randint(0,10000)) for _ in range (5)]\n",
    "print(t_tuple)\n",
    "t_tuple.sort(key = lambda x:x[0], reverse = False)\n",
    "print(t_tuple)"
   ]
  },
  {
   "cell_type": "markdown",
   "id": "39dffe23-c583-4e75-ab8e-aa1cc6976f0e",
   "metadata": {},
   "source": [
    "<h3>Inverser l'ordre d'une liste</h3>"
   ]
  },
  {
   "cell_type": "code",
   "execution_count": 19,
   "id": "5e55613d-c8b9-4cfe-8e95-f5c1caf140a8",
   "metadata": {},
   "outputs": [
    {
     "name": "stdout",
     "output_type": "stream",
     "text": [
      "[(2796, 8443), (5930, 2304), (9375, 3497), (7547, 6445), (4036, 4185)]\n",
      "[(4036, 4185), (7547, 6445), (9375, 3497), (5930, 2304), (2796, 8443)]\n"
     ]
    }
   ],
   "source": [
    "t_tuple = [(random.randint(0,10000),random.randint(0,10000)) for _ in range (5)]\n",
    "print(t_tuple)\n",
    "t_tuple.reverse()\n",
    "print(t_tuple)"
   ]
  },
  {
   "cell_type": "markdown",
   "id": "8e495e71-1d96-487a-ba2c-dc35bc1aaa34",
   "metadata": {},
   "source": [
    "<h2>Autres</h2>"
   ]
  },
  {
   "cell_type": "markdown",
   "id": "0d69f755-db59-4293-a4f3-4219244c8a67",
   "metadata": {},
   "source": [
    "<h3>Renvoyer le nombre d'élèment dans une liste</h3>"
   ]
  },
  {
   "cell_type": "code",
   "execution_count": 23,
   "id": "5e83ba79-1819-4950-9adf-ffd6a46dda17",
   "metadata": {},
   "outputs": [
    {
     "name": "stdout",
     "output_type": "stream",
     "text": [
      "7\n"
     ]
    }
   ],
   "source": [
    "ma_liste =[0,1,2,3,4,5,6]\n",
    "print(len(ma_liste))"
   ]
  },
  {
   "cell_type": "markdown",
   "id": "3f2f8d3a-1955-402b-8b76-32a21455fc6f",
   "metadata": {},
   "source": [
    "<h3>Renvoyer le plus grand élèment présent dans une liste</h3>"
   ]
  },
  {
   "cell_type": "code",
   "execution_count": 25,
   "id": "c825f0ab-dfb7-48b9-9864-aa8e85b510b2",
   "metadata": {},
   "outputs": [
    {
     "name": "stdout",
     "output_type": "stream",
     "text": [
      "[776, 60, 531, 547, 954, 43, 277, 714, 541, 599, 32, 225, 73, 823, 695, 362, 11, 812, 406, 188, 705, 441, 596, 455, 548, 930, 769, 664, 775, 72, 333, 651, 700, 312, 613, 996, 924, 463, 94, 414, 673, 160, 840, 800, 673, 845, 794, 657, 438, 60, 251, 416, 846, 684, 192, 720, 148, 25, 655, 616, 128, 246, 381, 280, 460, 377, 35, 637, 553, 649, 76, 126, 940, 495, 751, 736, 815, 360, 652, 717, 358, 39, 867, 540, 519, 359, 218, 702, 240, 402, 783, 798, 990, 86, 943, 593, 58, 639, 898, 166]\n",
      "996\n"
     ]
    }
   ],
   "source": [
    "ma_liste = [random.randint(0,1000)for _ in range(100)]\n",
    "print(max(ma_liste))"
   ]
  },
  {
   "cell_type": "markdown",
   "id": "e63c8ba7-00e6-4a7c-9a4a-74fd5f916192",
   "metadata": {},
   "source": [
    "<h3>Renoyer le plus petit élèment d'une liste</h3>"
   ]
  },
  {
   "cell_type": "code",
   "execution_count": 26,
   "id": "7495394a-42ca-4ebe-9166-5a7a3b101d12",
   "metadata": {},
   "outputs": [
    {
     "name": "stdout",
     "output_type": "stream",
     "text": [
      "9\n"
     ]
    }
   ],
   "source": [
    "ma_liste = [random.randint(0,1000)for _ in range(100)]\n",
    "print(min(ma_liste))"
   ]
  },
  {
   "cell_type": "markdown",
   "id": "688eed1d-a0c2-43ac-bee8-703eb1a722bd",
   "metadata": {},
   "source": [
    "<h3>Renvoyer la somme des élèments d'une liste</h3>"
   ]
  },
  {
   "cell_type": "code",
   "execution_count": 27,
   "id": "3ab03697-1433-438c-b98d-33c632a23632",
   "metadata": {},
   "outputs": [
    {
     "name": "stdout",
     "output_type": "stream",
     "text": [
      "51941\n"
     ]
    }
   ],
   "source": [
    "ma_liste = [random.randint(0,1000)for _ in range(100)]\n",
    "print(sum(ma_liste))"
   ]
  },
  {
   "cell_type": "markdown",
   "id": "a459949d-dcb1-4177-964d-3424e6653658",
   "metadata": {},
   "source": [
    "<h3>Renvoyer un tuple index-élèment</h3>"
   ]
  },
  {
   "cell_type": "code",
   "execution_count": 34,
   "id": "949cf7a2-762e-4208-a033-9d0518be60ed",
   "metadata": {},
   "outputs": [
    {
     "name": "stdout",
     "output_type": "stream",
     "text": [
      "Index 0 : élèment = 654\n",
      "Index 1 : élèment = 258\n",
      "Index 2 : élèment = 417\n",
      "Index 3 : élèment = 131\n",
      "Index 4 : élèment = 698\n",
      "Index 5 : élèment = 693\n",
      "Index 6 : élèment = 194\n",
      "Index 7 : élèment = 974\n",
      "Index 8 : élèment = 599\n",
      "Index 9 : élèment = 815\n"
     ]
    }
   ],
   "source": [
    "ma_liste = [random.randint(0,1000)for _ in range(10)]\n",
    "for i,el in enumerate(ma_liste):\n",
    "    print(f\"Index {i} : élèment = {el}\")"
   ]
  },
  {
   "cell_type": "markdown",
   "id": "ebe1f677-7258-455c-bbfc-d34b79f14ad8",
   "metadata": {},
   "source": [
    "<h3>Vérifier si un élèment et dans une liste</h3>"
   ]
  },
  {
   "cell_type": "code",
   "execution_count": 38,
   "id": "2e2dca0d-469e-4553-b58f-19cc5d128deb",
   "metadata": {},
   "outputs": [
    {
     "name": "stdout",
     "output_type": "stream",
     "text": [
      "True\n"
     ]
    }
   ],
   "source": [
    "ma_liste = [random.randint(0,100)for _ in range(100)]\n",
    "print(ma_liste.__contains__(3))"
   ]
  }
 ],
 "metadata": {
  "kernelspec": {
   "display_name": "Python 3 (ipykernel)",
   "language": "python",
   "name": "python3"
  },
  "language_info": {
   "codemirror_mode": {
    "name": "ipython",
    "version": 3
   },
   "file_extension": ".py",
   "mimetype": "text/x-python",
   "name": "python",
   "nbconvert_exporter": "python",
   "pygments_lexer": "ipython3",
   "version": "3.12.8"
  }
 },
 "nbformat": 4,
 "nbformat_minor": 5
}
